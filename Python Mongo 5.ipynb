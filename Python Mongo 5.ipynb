{
 "cells": [
  {
   "cell_type": "markdown",
   "metadata": {},
   "source": [
    "## **Georeferenciamento - Geoespaciais no MongoDB**\n",
    "### **Criando a nova conexão com o Mongodb**\n",
    "### **Georeferenciamento**\n",
    "### **MongoDB**\n",
    "### **Python**\n",
    "### ***Jonatha Rodrigues T. Vaz***\n",
    "### **jonatharodriguestenoriovaz822@gmail.com**"
   ]
  },
  {
   "cell_type": "markdown",
   "metadata": {},
   "source": [
    "### **Importando Biblioteca**"
   ]
  },
  {
   "cell_type": "code",
   "execution_count": null,
   "metadata": {},
   "outputs": [],
   "source": [
    "from pymongo import MongoClient"
   ]
  },
  {
   "cell_type": "markdown",
   "metadata": {},
   "source": [
    "### **Conexão com o banco de dados**"
   ]
  },
  {
   "cell_type": "code",
   "execution_count": null,
   "metadata": {},
   "outputs": [],
   "source": [
    "client = MongoClient('mongodb://localhost:27017/')\n",
    "db = client['georeferenciamento']\n",
    "collection = db['restaurantes']"
   ]
  },
  {
   "cell_type": "markdown",
   "metadata": {},
   "source": [
    "### **Criando um índice 3D**"
   ]
  },
  {
   "cell_type": "code",
   "execution_count": null,
   "metadata": {},
   "outputs": [],
   "source": [
    "collection.create_index([(\"location\", \"2dsphere\")])"
   ]
  },
  {
   "cell_type": "markdown",
   "metadata": {},
   "source": [
    "### **Inserindo dados com geometria espacial em 3D**"
   ]
  },
  {
   "cell_type": "code",
   "execution_count": null,
   "metadata": {},
   "outputs": [],
   "source": [
    "longitude = -73.935242\n",
    "latitude = 40.730610\n",
    "altitude = 100  # Ajuste Conforme Necessário\n",
    "\n",
    "longitude = -73.738242\n",
    "latitude = 40.430610\n",
    "altitude = 200  # Ajuste Conforme Necessário\n",
    "\n",
    "document = {\n",
    "    \"name\": \"Ponto 3D1\",\n",
    "    \"location\": {\n",
    "        \"type\": \"Point\",\n",
    "        \"coordinates\": [longitude, latitude, altitude]\n",
    "    }\n",
    "}\n",
    "collection.insert_one(document)\n",
    "\n",
    "print(\"Documento 3D inserido com sucesso.\")\n",
    "\n",
    "target_longitude = -73.935242\n",
    "target_latitude = 40.730610\n",
    "target_altitude = 100  # Ajuste Conforme Necessário\n",
    "\n",
    "# Consultando Pontos Próximos a uma Localização em 3D\n",
    "target_longitude = -73.738242\n",
    "target_latitude = 40.430610\n",
    "target_altitude = 200  # Ajuste Conforme Necessário\n",
    "\n",
    "query = {\n",
    "    \"location\": {\n",
    "        \"$near\": {\n",
    "            \"$geometry\": {\n",
    "                \"type\": \"Point\",\n",
    "                \"coordinates\": [target_longitude, target_latitude, target_altitude]\n",
    "            },\n",
    "            \"$maxDistance\": 1000  # Distância Máxima em Metros\n",
    "        }\n",
    "    }\n",
    "}\n",
    "\n",
    "result = collection.find(query)\n",
    "\n",
    "print(\"Documentos 3D próximos à localização especificada:\")\n",
    "for document in result:\n",
    "    print(document)"
   ]
  },
  {
   "cell_type": "markdown",
   "metadata": {},
   "source": [
    "### **Fechando a Conexão**"
   ]
  },
  {
   "cell_type": "code",
   "execution_count": null,
   "metadata": {},
   "outputs": [],
   "source": [
    "client.close()"
   ]
  }
 ],
 "metadata": {
  "kernelspec": {
   "display_name": "base",
   "language": "python",
   "name": "python3"
  },
  "language_info": {
   "name": "python",
   "version": "3.9.13"
  }
 },
 "nbformat": 4,
 "nbformat_minor": 2
}
