{
 "cells": [
  {
   "cell_type": "markdown",
   "metadata": {},
   "source": [
    "## **Georeferenciamento - Geoespaciais no MongoDB**\n",
    "### **Localização de dados georeferenciados com forma polígono**\n",
    "### **Georeferenciamento**\n",
    "### **MongoDB**\n",
    "### **Python**\n",
    "### ***Jonatha Rodrigues T. Vaz***\n",
    "### **jonatharodriguestenoriovaz822@gmail.com**"
   ]
  },
  {
   "cell_type": "markdown",
   "metadata": {},
   "source": [
    "### **Importando Biblioteca**"
   ]
  },
  {
   "cell_type": "code",
   "execution_count": null,
   "metadata": {},
   "outputs": [],
   "source": [
    "from pymongo import MongoClient"
   ]
  },
  {
   "cell_type": "markdown",
   "metadata": {},
   "source": [
    "### **Conexão com o Banco de Dados**"
   ]
  },
  {
   "cell_type": "code",
   "execution_count": null,
   "metadata": {},
   "outputs": [],
   "source": [
    "client = MongoClient('mongodb://localhost:27017/')\n",
    "db = client['georeferenciamento']\n",
    "collection = db['cidades']"
   ]
  },
  {
   "cell_type": "markdown",
   "metadata": {},
   "source": [
    "### **Definição do Polígono**"
   ]
  },
  {
   "cell_type": "code",
   "execution_count": null,
   "metadata": {},
   "outputs": [],
   "source": [
    "polygon = {\n",
    "    \"type\": \"Polygon\",\n",
    "    \"coordinates\": [\n",
    "        [\n",
    "            [\"-44.4486707128\", \"-2.1306920134\"],\n",
    "            [\"-44.4512148413\", \"-2.133853453\"],\n",
    "            [\"-44.4578566456\", \"-2.1337935438\"],\n",
    "            [\"-44.4486707128\", \"-2.1306920134\"]  # O último ponto deve ser igual ao primeiro para fechar o polígono\n",
    "        ]\n",
    "    ]\n",
    "}"
   ]
  },
  {
   "cell_type": "markdown",
   "metadata": {},
   "source": [
    "### **Consulta para Encontrar Documentos Dentro de um Polígono**"
   ]
  },
  {
   "cell_type": "code",
   "execution_count": null,
   "metadata": {},
   "outputs": [],
   "source": [
    "query = {\n",
    "    \"location\": {\n",
    "        \"$geoWithin\": {\n",
    "            \"$geometry\": polygon\n",
    "        }\n",
    "    }\n",
    "}\n",
    "\n",
    "result = collection.find(query)\n",
    "\n",
    "print(\"Documentos dentro do polígono:\")\n",
    "for document in result:\n",
    "    print(document)"
   ]
  },
  {
   "cell_type": "markdown",
   "metadata": {},
   "source": [
    "### **Fechando a Conexão**"
   ]
  },
  {
   "cell_type": "code",
   "execution_count": null,
   "metadata": {},
   "outputs": [],
   "source": [
    "client.close()"
   ]
  }
 ],
 "metadata": {
  "kernelspec": {
   "display_name": "base",
   "language": "python",
   "name": "python3"
  },
  "language_info": {
   "name": "python",
   "version": "3.9.13"
  }
 },
 "nbformat": 4,
 "nbformat_minor": 2
}
