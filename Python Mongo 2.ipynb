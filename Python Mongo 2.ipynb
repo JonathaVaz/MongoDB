{
 "cells": [
  {
   "cell_type": "markdown",
   "metadata": {},
   "source": [
    "## **Georeferenciamento - Geoespaciais no MongoDB**\n",
    "### **Consultando Dados com operadores Geoespaciais**\n",
    "### **Georeferenciamento**\n",
    "### **MongoDB**\n",
    "### **Python**\n",
    "### ***Jonatha Rodrigues T. Vaz***\n",
    "### **jonatharodriguestenoriovaz822@gmail.com**"
   ]
  },
  {
   "cell_type": "markdown",
   "metadata": {},
   "source": [
    "### **Importando as Bibliotecas**"
   ]
  },
  {
   "cell_type": "code",
   "execution_count": 1,
   "metadata": {},
   "outputs": [],
   "source": [
    "from pymongo import MongoClient\n",
    "from bson.son import SON"
   ]
  },
  {
   "cell_type": "markdown",
   "metadata": {},
   "source": [
    "### **Conectando ao banco de dados**"
   ]
  },
  {
   "cell_type": "code",
   "execution_count": null,
   "metadata": {},
   "outputs": [],
   "source": [
    "client = MongoClient('mongodb://localhost:27017/')\n",
    "db = client['georeferenciamento']\n",
    "collection = db['cidades']"
   ]
  },
  {
   "cell_type": "markdown",
   "metadata": {},
   "source": [
    "### **Consulta para Encontrar Documentos Próximos a uma Determinada Localização**"
   ]
  },
  {
   "cell_type": "code",
   "execution_count": null,
   "metadata": {},
   "outputs": [],
   "source": [
    "target_longitude = -73.935242\n",
    "target_latitude = 40.730610\n",
    "\n",
    "pipeline = [\n",
    "    {\n",
    "        \"$geoNear\": {\n",
    "            \"near\": {\n",
    "                \"type\": \"Point\",\n",
    "                \"coordinates\": [target_longitude, target_latitude]\n",
    "            },\n",
    "            \"distanceField\": \"distance\",\n",
    "            \"maxDistance\": 1000,  # Distância Máxima em Metros\n",
    "            \"spherical\": True\n",
    "        }\n",
    "    }\n",
    "]\n",
    "\n",
    "result = collection.aggregate(pipeline)\n",
    "\n",
    "print(\"Documentos próximos à localização especificada:\")\n",
    "\n",
    "for document in result:\n",
    "    print(document)"
   ]
  },
  {
   "cell_type": "markdown",
   "metadata": {},
   "source": [
    "### **Fechando a Conexão**"
   ]
  },
  {
   "cell_type": "code",
   "execution_count": null,
   "metadata": {},
   "outputs": [],
   "source": [
    "client.close()"
   ]
  }
 ],
 "metadata": {
  "kernelspec": {
   "display_name": "base",
   "language": "python",
   "name": "python3"
  },
  "language_info": {
   "codemirror_mode": {
    "name": "ipython",
    "version": 3
   },
   "file_extension": ".py",
   "mimetype": "text/x-python",
   "name": "python",
   "nbconvert_exporter": "python",
   "pygments_lexer": "ipython3",
   "version": "3.9.13"
  }
 },
 "nbformat": 4,
 "nbformat_minor": 2
}
