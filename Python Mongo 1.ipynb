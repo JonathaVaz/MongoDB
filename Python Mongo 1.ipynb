{
 "cells": [
  {
   "cell_type": "markdown",
   "metadata": {},
   "source": [
    "## **Georeferenciamento - Geoespaciais no MongoDB**\n",
    "### **Inserindo Dados com Campos Geoespaciais**\n",
    "### **Georeferenciamento**\n",
    "### **MongoDB**\n",
    "### **Python**\n",
    "### ***Jonatha Rodrigues T. Vaz***\n",
    "### **jonatharodriguestenoriovaz822@gmail.com**"
   ]
  },
  {
   "cell_type": "markdown",
   "metadata": {},
   "source": [
    "### **Instalando a Biblioteca Pymongo**"
   ]
  },
  {
   "cell_type": "code",
   "execution_count": 2,
   "metadata": {},
   "outputs": [
    {
     "name": "stdout",
     "output_type": "stream",
     "text": [
      "Collecting pymongoNote: you may need to restart the kernel to use updated packages.\n",
      "\n",
      "  Downloading pymongo-4.7.1-cp39-cp39-win_amd64.whl (484 kB)\n",
      "                                              0.0/484.5 kB ? eta -:--:--\n",
      "     ------------------------------------- 484.5/484.5 kB 15.3 MB/s eta 0:00:00\n",
      "Collecting dnspython<3.0.0,>=1.16.0 (from pymongo)\n",
      "  Using cached dnspython-2.6.1-py3-none-any.whl (307 kB)\n",
      "Installing collected packages: dnspython, pymongo\n",
      "Successfully installed dnspython-2.6.1 pymongo-4.7.1\n"
     ]
    }
   ],
   "source": [
    "%pip install pymongo"
   ]
  },
  {
   "cell_type": "markdown",
   "metadata": {},
   "source": [
    "### **Importanto a Biblioteca MongoDB**"
   ]
  },
  {
   "cell_type": "code",
   "execution_count": 3,
   "metadata": {},
   "outputs": [],
   "source": [
    "from pymongo import MongoClient"
   ]
  },
  {
   "cell_type": "markdown",
   "metadata": {},
   "source": [
    "### **Conectando com Banco de Dados**"
   ]
  },
  {
   "cell_type": "code",
   "execution_count": null,
   "metadata": {},
   "outputs": [],
   "source": [
    "client = MongoClient('mongodb://localhost:27017/')\n",
    "db = client['georeferenciamento']\n",
    "collection = db['cidades']"
   ]
  },
  {
   "cell_type": "markdown",
   "metadata": {},
   "source": [
    "### **Inserindo um Documento com Campo Geoespacial**"
   ]
  },
  {
   "cell_type": "code",
   "execution_count": null,
   "metadata": {},
   "outputs": [],
   "source": [
    "longitude = -45.123456  # substituindo com o valor correto\n",
    "latitude = -23.987654  # substituindo com o valor correto\n",
    "\n",
    "target_longitude = -73.935242 # substituindo com o valor correto\n",
    "target_latitude = 40.730610  # substituindo com o valor correto\n",
    "\n",
    "document = {\n",
    "    \"name\": \"Localização Exemplo da Cidade Nova\",\n",
    "    \"location\": {\n",
    "        \"type\": \"Point\",\n",
    "        \"coordinates\": [target_longitude, target_latitude]\n",
    "    }\n",
    "}\n",
    "collection.insert_one(document)\n",
    "\n",
    "print(\"Documento inserido com sucesso.\")"
   ]
  },
  {
   "cell_type": "markdown",
   "metadata": {},
   "source": [
    "## **Fechando a Conexão**"
   ]
  },
  {
   "cell_type": "code",
   "execution_count": null,
   "metadata": {},
   "outputs": [],
   "source": [
    "client.close()"
   ]
  }
 ],
 "metadata": {
  "kernelspec": {
   "display_name": "base",
   "language": "python",
   "name": "python3"
  },
  "language_info": {
   "codemirror_mode": {
    "name": "ipython",
    "version": 3
   },
   "file_extension": ".py",
   "mimetype": "text/x-python",
   "name": "python",
   "nbconvert_exporter": "python",
   "pygments_lexer": "ipython3",
   "version": "3.9.13"
  }
 },
 "nbformat": 4,
 "nbformat_minor": 2
}
